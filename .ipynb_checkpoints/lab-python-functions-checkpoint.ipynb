{
 "cells": [
  {
   "cell_type": "markdown",
   "id": "25d7736c-ba17-4aff-b6bb-66eba20fbf4e",
   "metadata": {},
   "source": [
    "# Lab | Functions"
   ]
  },
  {
   "cell_type": "code",
   "execution_count": null,
   "id": "07d004c0",
   "metadata": {},
   "outputs": [],
   "source": []
  },
  {
   "cell_type": "code",
   "execution_count": null,
   "id": "80e044fd",
   "metadata": {},
   "outputs": [],
   "source": []
  },
  {
   "cell_type": "code",
   "execution_count": null,
   "id": "9b36de45",
   "metadata": {},
   "outputs": [],
   "source": []
  },
  {
   "cell_type": "code",
   "execution_count": 1,
   "id": "24c54ed3",
   "metadata": {
    "tags": []
   },
   "outputs": [],
   "source": [
    "## Exercise: Managing Customer Orders with Functions\n",
    "\n",
    "# In the previous exercise, you improved the code for managing customer orders by using loops and flow control. Now, let's take it a step further and refactor the code by introducing functions.\n",
    "\n",
    "# Follow the steps below to complete the exercise:\n",
    "\n",
    "# 1. Define a function named `initialize_inventory` that takes `products` as a parameter. Inside the function, implement the code for initializing the inventory dictionary using a loop and user input.\n",
    "\n",
    "# 2. Define a function named `get_customer_orders` that takes no parameters. Inside the function, implement the code for prompting the user to enter the product names using a loop. The function should return the `customer_orders` set.\n",
    "\n",
    "# 3. Define a function named `update_inventory` that takes `customer_orders` and `inventory` as parameters. Inside the function, implement the code for updating the inventory dictionary based on the customer orders.\n",
    "\n",
    "\n",
    "# 4. Define a function named `calculate_order_statistics` that takes `customer_orders` and `products` as parameters. Inside the function, implement the code for calculating the order statistics (total products ordered, and percentage of unique products ordered). The function should return these values.\n",
    "\n",
    "# 5. Define a function named `print_order_statistics` that takes `order_statistics` as a parameter. Inside the function, implement the code for printing the order statistics.\n",
    "\n",
    "# 6. Define a function named `print_updated_inventory` that takes `inventory` as a parameter. Inside the function, implement the code for printing the updated inventory.\n",
    "\n",
    "# 7. Call the functions in the appropriate sequence to execute the program and manage customer orders.\n",
    "\n",
    "# Hints for functions:\n",
    "\n",
    "# - Consider the input parameters required for each function and their return values.\n",
    "# - Utilize function parameters and return values to transfer data between functions.\n",
    "# - Test your functions individually to ensure they work correctly.\n",
    "\n",
    "\n"
   ]
  },
  {
   "cell_type": "code",
   "execution_count": null,
   "id": "04ee0a5d",
   "metadata": {},
   "outputs": [],
   "source": []
  },
  {
   "cell_type": "markdown",
   "id": "704b2fbd",
   "metadata": {},
   "source": [
    "**1. Define a function named `initialize_inventory` that takes `products` as a parameter. Inside the function, implement the code for initializing the inventory dictionary using a loop and user input.**"
   ]
  },
  {
   "cell_type": "code",
   "execution_count": 1,
   "id": "4951a6a3",
   "metadata": {},
   "outputs": [
    {
     "name": "stdout",
     "output_type": "stream",
     "text": [
      "how many units are available of t-shirt ?5\n",
      "how many units are available of mug ?5\n",
      "how many units are available of hat ?5\n",
      "how many units are available of book ?5\n",
      "how many units are available of keychain ?5\n",
      "{'t-shirt': 5, 'mug': 5, 'hat': 5, 'book': 5, 'keychain': 5}\n"
     ]
    }
   ],
   "source": [
    "\n",
    "product = ['t-shirt', 'mug', 'hat', 'book', 'keychain']\n",
    "products_updated = {}\n",
    "\n",
    "    \n",
    "def initialize_inventory (products):\n",
    "    inventory = {} \n",
    "    for items in products: \n",
    "        unit = int (input (f'how many units are available of {items} ?'))\n",
    "        inventory [items]= unit\n",
    "    \n",
    "    return inventory\n",
    "\n",
    "\n",
    "inventory = initialize_inventory(product)\n",
    "print(inventory)"
   ]
  },
  {
   "cell_type": "code",
   "execution_count": null,
   "id": "249aa834",
   "metadata": {},
   "outputs": [],
   "source": [
    "\n",
    "\n"
   ]
  },
  {
   "cell_type": "markdown",
   "id": "46380e3c",
   "metadata": {},
   "source": [
    "**# 2. Define a function named `get_customer_orders` that takes no parameters. Inside the function, implement the code for prompting the user to enter the product names using a loop. The function should return the `customer_orders` set.**"
   ]
  },
  {
   "cell_type": "code",
   "execution_count": 2,
   "id": "df122b22",
   "metadata": {},
   "outputs": [
    {
     "name": "stdout",
     "output_type": "stream",
     "text": [
      "Do you want to order a product? Insert yes/no   yes\n",
      "What do you need?: mug\n",
      "How many?: 1\n",
      "Do you need something else?: Insert yes/noyes\n",
      "What do you need?: book\n",
      "How many?: 1\n",
      "Do you need something else?: Insert yes/nono\n",
      "Okay, bye\n",
      "This is the customers order:  {'mug': 1, 'book': 1}\n"
     ]
    },
    {
     "data": {
      "text/plain": [
       "{'mug': 1, 'book': 1}"
      ]
     },
     "execution_count": 2,
     "metadata": {},
     "output_type": "execute_result"
    }
   ],
   "source": [
    "\n",
    "\n",
    "def get_customer_orders ():\n",
    "    \n",
    "    customer_orders = {}\n",
    "    question = input ('Do you want to order a product? Insert yes/no   ')\n",
    "    while question =='yes':\n",
    "            order = input ('What do you need?: ')\n",
    "            units =  input ('How many?: ')\n",
    "            more = input ('Do you need something else?: Insert yes/no')\n",
    "\n",
    "            customer_orders[order] = int(units)\n",
    "\n",
    "            if more =='no':\n",
    "                print ('Okay, bye')\n",
    "                print ('This is the customers order: ', customer_orders)  \n",
    "                break\n",
    "    else:\n",
    "        print ('Okay, bye')\n",
    "    return customer_orders\n",
    "\n",
    "get_customer_orders()"
   ]
  },
  {
   "cell_type": "code",
   "execution_count": null,
   "id": "e0cb0f6b",
   "metadata": {},
   "outputs": [],
   "source": []
  },
  {
   "cell_type": "markdown",
   "id": "5170674f",
   "metadata": {},
   "source": [
    "**3. Define a function named `update_inventory` that takes `customer_orders` and `inventory` as parameters. Inside the function, implement the code for updating the inventory dictionary based on the customer orders.**"
   ]
  },
  {
   "cell_type": "code",
   "execution_count": 3,
   "id": "2c406253",
   "metadata": {
    "scrolled": true
   },
   "outputs": [
    {
     "name": "stdout",
     "output_type": "stream",
     "text": [
      "how many units are available of t-shirt ?5\n",
      "how many units are available of mug ?5\n",
      "how many units are available of hat ?5\n",
      "how many units are available of book ?5\n",
      "how many units are available of keychain ?5\n",
      "Do you want to order a product? Insert yes/no   yes\n",
      "What do you need?: mug\n",
      "How many?: 1\n",
      "Do you need something else?: Insert yes/noyes\n",
      "What do you need?: book\n",
      "How many?: 1\n",
      "Do you need something else?: Insert yes/nono\n",
      "Okay, bye\n",
      "This is the customers order:  {'mug': 1, 'book': 1}\n",
      "This is the inventory updated: {'t-shirt': 5, 'mug': 4, 'hat': 5, 'book': 4, 'keychain': 5}\n"
     ]
    },
    {
     "data": {
      "text/plain": [
       "{'t-shirt': 5, 'mug': 4, 'hat': 5, 'book': 4, 'keychain': 5}"
      ]
     },
     "execution_count": 3,
     "metadata": {},
     "output_type": "execute_result"
    }
   ],
   "source": [
    "\n",
    "inventory = initialize_inventory(product)\n",
    "customer_orders = get_customer_orders()\n",
    "\n",
    "\n",
    "def update_inventory (customer_orders, inventory):\n",
    "\n",
    "    for item, unit in customer_orders.items():\n",
    "        if item in inventory:\n",
    "            inventory[item] -= unit\n",
    "    \n",
    "    print ('This is the inventory updated:', inventory)\n",
    "    \n",
    "    return inventory\n",
    "\n",
    "update_inventory (customer_orders, inventory)\n",
    "\n"
   ]
  },
  {
   "cell_type": "code",
   "execution_count": null,
   "id": "352d70c1",
   "metadata": {},
   "outputs": [],
   "source": []
  },
  {
   "cell_type": "code",
   "execution_count": null,
   "id": "c8ffe4d7",
   "metadata": {},
   "outputs": [],
   "source": []
  },
  {
   "cell_type": "markdown",
   "id": "e6ad8d25",
   "metadata": {},
   "source": [
    "**4. Define a function named `calculate_order_statistics` that takes `customer_orders` and `products` as parameters. Inside the function, implement the code for calculating the order statistics (total products ordered, and percentage of unique products ordered). The function should return these values.**"
   ]
  },
  {
   "cell_type": "code",
   "execution_count": 11,
   "id": "c33bccd8",
   "metadata": {},
   "outputs": [
    {
     "name": "stdout",
     "output_type": "stream",
     "text": [
      "Do you want to order a product? Insert yes/no   kjk\n",
      "Okay, bye\n"
     ]
    },
    {
     "ename": "TypeError",
     "evalue": "object of type 'int' has no len()",
     "output_type": "error",
     "traceback": [
      "\u001b[0;31m---------------------------------------------------------------------------\u001b[0m",
      "\u001b[0;31mTypeError\u001b[0m                                 Traceback (most recent call last)",
      "Cell \u001b[0;32mIn[11], line 17\u001b[0m\n\u001b[1;32m     11\u001b[0m     percentage_ordered \u001b[38;5;241m=\u001b[39m z\u001b[38;5;241m*\u001b[39m\u001b[38;5;241m100\u001b[39m\u001b[38;5;241m/\u001b[39m\u001b[38;5;241m5\u001b[39m \u001b[38;5;66;03m#porcentaje: pedidos(3) entre 100, por el total (5)\u001b[39;00m\n\u001b[1;32m     15\u001b[0m     \u001b[38;5;28;01mreturn\u001b[39;00m total_ordered, percentage_ordered\n\u001b[0;32m---> 17\u001b[0m calculate_order_statistics(total_client_orders, total_percentage)\n",
      "Cell \u001b[0;32mIn[11], line 9\u001b[0m, in \u001b[0;36mcalculate_order_statistics\u001b[0;34m(customer_orders, products)\u001b[0m\n\u001b[1;32m      4\u001b[0m \u001b[38;5;28;01mdef\u001b[39;00m \u001b[38;5;21mcalculate_order_statistics\u001b[39m (customer_orders, products):\n\u001b[1;32m      6\u001b[0m     total_ordered \u001b[38;5;241m=\u001b[39m \u001b[38;5;28mlen\u001b[39m (customer_orders)\n\u001b[0;32m----> 9\u001b[0m     x \u001b[38;5;241m=\u001b[39m\u001b[38;5;28mlen\u001b[39m(products) \u001b[38;5;66;03m#sacamos el total de productos\u001b[39;00m\n\u001b[1;32m     10\u001b[0m     z\u001b[38;5;241m=\u001b[39m\u001b[38;5;28mlen\u001b[39m(customer_orders) \u001b[38;5;66;03m#sacamos el total de pedidos\u001b[39;00m\n\u001b[1;32m     11\u001b[0m     percentage_ordered \u001b[38;5;241m=\u001b[39m z\u001b[38;5;241m*\u001b[39m\u001b[38;5;241m100\u001b[39m\u001b[38;5;241m/\u001b[39m\u001b[38;5;241m5\u001b[39m \u001b[38;5;66;03m#porcentaje: pedidos(3) entre 100, por el total (5)\u001b[39;00m\n",
      "\u001b[0;31mTypeError\u001b[0m: object of type 'int' has no len()"
     ]
    }
   ],
   "source": [
    "\n",
    "total_client_orders = get_customer_orders()\n",
    "total_percentage = 0\n",
    "\n",
    "def calculate_order_statistics (customer_orders, products):\n",
    "    \n",
    "    total_ordered = len (customer_orders)\n",
    "    \n",
    "    \n",
    "    x =len(products) #sacamos el total de productos\n",
    "    z=len(customer_orders) #sacamos el total de pedidos\n",
    "    percentage_ordered = z*100/5 #porcentaje: pedidos(3) entre 100, por el total (5)\n",
    "\n",
    "  \n",
    "    \n",
    "    return total_ordered, percentage_ordered\n",
    "    \n",
    "calculate_order_statistics(total_client_orders, total_percentage)\n",
    "    "
   ]
  },
  {
   "cell_type": "code",
   "execution_count": null,
   "id": "15b8e151",
   "metadata": {},
   "outputs": [],
   "source": []
  },
  {
   "cell_type": "markdown",
   "id": "7c087c04",
   "metadata": {},
   "source": [
    "**5. Define a function named `print_order_statistics` that takes `order_statistics` as a parameter. Inside the function, implement the code for printing the order statistics.**"
   ]
  },
  {
   "cell_type": "code",
   "execution_count": 6,
   "id": "7a4bb83c",
   "metadata": {
    "scrolled": true
   },
   "outputs": [
    {
     "name": "stdout",
     "output_type": "stream",
     "text": [
      "The total amount of products order is 2\n",
      "The percentage of unique products ordered is 40.0\n"
     ]
    }
   ],
   "source": [
    "\n",
    "\n",
    "order_statistics = calculate_order_statistics(total_client_orders, total_percentage)\n",
    "def print_order_statistics (order_statistics):\n",
    "    \n",
    "    \n",
    "    print (f'The total amount of products order is {order_statistics[0]}')\n",
    "    print (f'The percentage of unique products ordered is {order_statistics[1]}')\n",
    "\n",
    "print_order_statistics (order_statistics)"
   ]
  },
  {
   "cell_type": "markdown",
   "id": "a2f3618e",
   "metadata": {},
   "source": [
    "**6. Define a function named `print_updated_inventory` that takes `inventory` as a parameter. Inside the function, implement the code for printing the updated inventory.**"
   ]
  },
  {
   "cell_type": "code",
   "execution_count": 9,
   "id": "c9ead8b5",
   "metadata": {},
   "outputs": [
    {
     "name": "stdout",
     "output_type": "stream",
     "text": [
      "{'t-shirt': 5, 'mug': 5, 'hat': 5, 'book': 5, 'keychain': 5}\n"
     ]
    }
   ],
   "source": [
    "# inventory = initialize_inventory(product)\n",
    "\n",
    "def print_update_inventory(inventory):\n",
    "    print(inventory)\n",
    "\n",
    "print_update_inventory(inventory)\n",
    "    "
   ]
  },
  {
   "cell_type": "markdown",
   "id": "5bcf30ba",
   "metadata": {},
   "source": [
    "**7. Call the functions in the appropriate sequence to execute the program and manage customer orders.**"
   ]
  },
  {
   "cell_type": "code",
   "execution_count": 14,
   "id": "174052ae",
   "metadata": {},
   "outputs": [
    {
     "name": "stdout",
     "output_type": "stream",
     "text": [
      "how many units are available of t-shirt ?5\n",
      "how many units are available of mug ?5\n",
      "how many units are available of book ?5\n",
      "how many units are available of hat ?5\n",
      "how many units are available of keychain ?5\n",
      "Do you want to order a product? Insert yes/no   yes\n",
      "What do you need?: mug\n",
      "How many?: 1\n",
      "Do you need something else?: Insert yes/noyes\n",
      "What do you need?: book\n",
      "How many?: 1\n",
      "Do you need something else?: Insert yes/noyes\n",
      "What do you need?: hat\n",
      "How many?: 1\n",
      "Do you need something else?: Insert yes/nono\n",
      "Okay, bye\n",
      "This is the customers order:  {'mug': 1, 'book': 1, 'hat': 1}\n",
      "This is the inventory updated: {'t-shirt': 5, 'mug': 4, 'book': 4, 'hat': 4, 'keychain': 5}\n",
      "The total amount of products order is 3\n",
      "The percentage of unique products ordered is 60.0\n",
      "{'t-shirt': 5, 'mug': 4, 'book': 4, 'hat': 4, 'keychain': 5}\n"
     ]
    }
   ],
   "source": [
    "\n",
    "def main():\n",
    "    \"\"\"This function ... \"\"\"\n",
    "  #products available\n",
    "    products = [\"t-shirt\", \"mug\", \"book\", \"hat\", \"keychain\"]\n",
    "\n",
    "  #how much of each item we have\n",
    "    inventory = initialize_inventory(products)\n",
    "\n",
    "  #asking the user what products he/she wants\n",
    "    customer_orders = get_customer_orders()\n",
    "\n",
    "  #updating the inventory\n",
    "    inventory = update_inventory(customer_orders, inventory)\n",
    "\n",
    "  #calculating order stats\n",
    "    order_statistics = calculate_order_statistics(customer_orders, products)\n",
    "\n",
    "  #print stats to the user to see\n",
    "    print_order_statistics(order_statistics)\n",
    "\n",
    "  #finally print the updated inventory\n",
    "    print_update_inventory(inventory)\n",
    "\n",
    "    return \n",
    "\n",
    "main()\n"
   ]
  },
  {
   "cell_type": "markdown",
   "id": "3ebeb37c",
   "metadata": {},
   "source": []
  }
 ],
 "metadata": {
  "kernelspec": {
   "display_name": "Python 3 (ipykernel)",
   "language": "python",
   "name": "python3"
  },
  "language_info": {
   "codemirror_mode": {
    "name": "ipython",
    "version": 3
   },
   "file_extension": ".py",
   "mimetype": "text/x-python",
   "name": "python",
   "nbconvert_exporter": "python",
   "pygments_lexer": "ipython3",
   "version": "3.11.4"
  }
 },
 "nbformat": 4,
 "nbformat_minor": 5
}
